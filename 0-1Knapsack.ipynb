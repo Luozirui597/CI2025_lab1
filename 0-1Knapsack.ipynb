{
 "cells": [
  {
   "cell_type": "markdown",
   "id": "8ffee8c4",
   "metadata": {},
   "source": [
    "#Lab1\n",
    "##0-1Knapsack"
   ]
  },
  {
   "cell_type": "code",
   "execution_count": 15,
   "id": "93932fca",
   "metadata": {},
   "outputs": [],
   "source": [
    "import numpy as np"
   ]
  },
  {
   "cell_type": "markdown",
   "id": "ce3bf1a8",
   "metadata": {},
   "source": [
    "###Thanks to professor"
   ]
  },
  {
   "cell_type": "code",
   "execution_count": 16,
   "id": "a304ecb6",
   "metadata": {},
   "outputs": [],
   "source": [
    "NUM_KNAPSACKS = 2\n",
    "NUM_ITEMS = 10\n",
    "NUM_DIMENSIONS = 2"
   ]
  },
  {
   "cell_type": "code",
   "execution_count": 17,
   "id": "2f12440c",
   "metadata": {},
   "outputs": [],
   "source": [
    "VALUES = np.random.randint(0, 100, size=NUM_ITEMS)\n",
    "WEIGHTS = np.random.randint(0, 100, size=(NUM_ITEMS, NUM_DIMENSIONS))\n",
    "CONSTRAINTS = np.random.randint(0, 100 * NUM_ITEMS // NUM_KNAPSACKS, size=NUM_DIMENSIONS)"
   ]
  },
  {
   "cell_type": "code",
   "execution_count": 18,
   "id": "56e7e6dc",
   "metadata": {},
   "outputs": [
    {
     "data": {
      "text/plain": [
       "array([463, 159])"
      ]
     },
     "execution_count": 18,
     "metadata": {},
     "output_type": "execute_result"
    }
   ],
   "source": [
    "#VALUES\n",
    "#WEIGHTS\n",
    "CONSTRAINTS"
   ]
  },
  {
   "cell_type": "markdown",
   "id": "1d73ab6b",
   "metadata": {},
   "source": [
    "###TEST PROBLEMS"
   ]
  },
  {
   "cell_type": "code",
   "execution_count": 19,
   "id": "64459bcb",
   "metadata": {},
   "outputs": [],
   "source": [
    "# Problem 1:\n",
    "rng = np.random.default_rng(seed=42)\n",
    "NUM_KNAPSACKS = 3\n",
    "NUM_ITEMS = 20\n",
    "NUM_DIMENSIONS = 2\n",
    "VALUES = rng.integers(0, 100, size=NUM_ITEMS)\n",
    "WEIGHTS = rng.integers(0, 100, size=(NUM_ITEMS, NUM_DIMENSIONS))\n",
    "CONSTRAINTS = rng.integers(0, 100 * NUM_ITEMS // NUM_KNAPSACKS, size=NUM_DIMENSIONS)"
   ]
  },
  {
   "cell_type": "code",
   "execution_count": 20,
   "id": "8ec1c673",
   "metadata": {},
   "outputs": [],
   "source": [
    "# Problem 2:\n",
    "rng = np.random.default_rng(seed=42)\n",
    "NUM_KNAPSACKS = 10\n",
    "NUM_ITEMS = 100\n",
    "NUM_DIMENSIONS = 10\n",
    "VALUES = rng.integers(0, 1000, size=NUM_ITEMS)\n",
    "WEIGHTS = rng.integers(0, 1000, size=(NUM_ITEMS, NUM_DIMENSIONS))\n",
    "CONSTRAINTS = rng.integers(1000 * 2, 1000 * NUM_ITEMS // NUM_KNAPSACKS, size=NUM_DIMENSIONS)"
   ]
  },
  {
   "cell_type": "code",
   "execution_count": 21,
   "id": "4c86275c",
   "metadata": {},
   "outputs": [],
   "source": [
    "# Problem 3:\n",
    "rng = np.random.default_rng(seed=42)\n",
    "NUM_KNAPSACKS = 100\n",
    "NUM_ITEMS = 5000\n",
    "NUM_DIMENSIONS = 100\n",
    "VALUES = rng.integers(0, 1000, size=NUM_ITEMS)\n",
    "WEIGHTS = rng.integers(0, 1000, size=(NUM_ITEMS, NUM_DIMENSIONS))\n",
    "CONSTRAINTS = rng.integers(1000 * 10, 1000 * 2 * NUM_ITEMS // NUM_KNAPSACKS, size=NUM_DIMENSIONS)\n"
   ]
  },
  {
   "cell_type": "code",
   "execution_count": 22,
   "id": "da679c87",
   "metadata": {},
   "outputs": [
    {
     "name": "stdout",
     "output_type": "stream",
     "text": [
      "[ 89 773 654 ... 819 678 498]\n",
      "[[197  33 627 ... 319 937 293]\n",
      " [550 543 242 ... 942 568 950]\n",
      " [436 411 836 ... 664 169 846]\n",
      " ...\n",
      " [869 582 968 ... 567 291 288]\n",
      " [ 97 220 662 ... 171 310 833]\n",
      " [656  51 146 ... 286 725 372]]\n",
      "[79834 52005 17527 30007 59295 98921 12881 36174 63958 90566 25740 12251\n",
      " 27746 78136 90704 39249 23072 69010 17326 29277 42886 48016 74931 93479\n",
      " 30898 18137 75557 56030 75506 90246 42093 34668 22075 79709 98971 15032\n",
      " 57157 21369 76865 11589 82666 78074 68715 85558 61242 80943 26905 84378\n",
      " 85069 77221 16434 28156 17827 83548 72921 27512 41395 23936 72519 96465\n",
      " 12904 72709 81023 81015 28959 98041 90482 89802 76408 29899 51171 94767\n",
      " 78351 57860 58504 40545 97025 99185 42888 54965 24945 51281 31276 61913\n",
      " 96714 93034 72901 95222 37857 53461 15463 71355 64979 70086 48286 38026\n",
      " 60109 78500 56643 69915]\n"
     ]
    }
   ],
   "source": [
    "print(VALUES)\n",
    "print(WEIGHTS)\n",
    "print(CONSTRAINTS)"
   ]
  }
 ],
 "metadata": {
  "kernelspec": {
   "display_name": ".venv",
   "language": "python",
   "name": "python3"
  },
  "language_info": {
   "codemirror_mode": {
    "name": "ipython",
    "version": 3
   },
   "file_extension": ".py",
   "mimetype": "text/x-python",
   "name": "python",
   "nbconvert_exporter": "python",
   "pygments_lexer": "ipython3",
   "version": "3.9.6"
  }
 },
 "nbformat": 4,
 "nbformat_minor": 5
}
