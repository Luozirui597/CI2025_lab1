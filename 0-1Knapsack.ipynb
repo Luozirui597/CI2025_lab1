{
 "cells": [
  {
   "cell_type": "markdown",
   "id": "8ffee8c4",
   "metadata": {},
   "source": [
    "#Lab1\n",
    "##0-1Knapsack"
   ]
  },
  {
   "cell_type": "code",
   "execution_count": 104,
   "id": "93932fca",
   "metadata": {},
   "outputs": [],
   "source": [
    "import numpy as np\n",
    "from icecream import ic\n",
    "from tqdm.notebook import tqdm\n",
    "ic.configureOutput(includeContext=False, outputFunction=tqdm.write)"
   ]
  },
  {
   "cell_type": "code",
   "execution_count": 105,
   "id": "a304ecb6",
   "metadata": {},
   "outputs": [],
   "source": [
    "NUM_KNAPSACKS = 3\n",
    "NUM_ITEMS = 10\n",
    "NUM_DIMENSIONS = 2"
   ]
  },
  {
   "cell_type": "code",
   "execution_count": 106,
   "id": "2f12440c",
   "metadata": {},
   "outputs": [],
   "source": [
    "VALUES = np.random.randint(0, 100, size=NUM_ITEMS)\n",
    "WEIGHTS = np.random.randint(0, 100, size=(NUM_ITEMS, NUM_DIMENSIONS))\n",
    "CONSTRAINTS = np.random.randint(0, 100 * NUM_ITEMS // NUM_KNAPSACKS, size=(NUM_KNAPSACKS,NUM_DIMENSIONS))"
   ]
  },
  {
   "cell_type": "code",
   "execution_count": 107,
   "id": "56e7e6dc",
   "metadata": {},
   "outputs": [
    {
     "name": "stdout",
     "output_type": "stream",
     "text": [
      "[37 80 50 99 74 19  1 25 92 78]\n",
      "[[43  7]\n",
      " [14 50]\n",
      " [59 72]\n",
      " [50 87]\n",
      " [64 39]\n",
      " [30 36]\n",
      " [30  5]\n",
      " [42 58]\n",
      " [70 65]\n",
      " [56 87]]\n"
     ]
    },
    {
     "data": {
      "text/plain": [
       "array([[108,  89],\n",
       "       [198, 161],\n",
       "       [299, 310]])"
      ]
     },
     "execution_count": 107,
     "metadata": {},
     "output_type": "execute_result"
    }
   ],
   "source": [
    "print(VALUES)\n",
    "print(WEIGHTS)\n",
    "CONSTRAINTS"
   ]
  },
  {
   "cell_type": "markdown",
   "id": "1d73ab6b",
   "metadata": {},
   "source": [
    "###TEST PROBLEMS"
   ]
  },
  {
   "cell_type": "code",
   "execution_count": null,
   "id": "479300ce",
   "metadata": {},
   "outputs": [],
   "source": [
    "#test some solutions\n",
    "#start from classic knapsack solution\n",
    "#random solution\n",
    "def random_feasible_init(values, weights, constraints, num_knapsacks, rng=None):\n",
    "    rng = np.random.default_rng() if rng is None else rng\n",
    "    N, D = weights.shape; K = num_knapsacks\n",
    "    sol = np.zeros((N, K), dtype=int)\n",
    "    loads = np.zeros((K, D), dtype=int)\n",
    "\n",
    "    # from low to high value/weight ratio\n",
    "    norm = np.maximum(constraints.astype(float), 1.0)\n",
    "    score = values / ((weights / norm).sum(axis=1) + 1e-9)\n",
    "    order = np.argsort(score)                   \n",
    "\n",
    "    for i in order:\n",
    "        k = rng.integers(K)                     \n",
    "        if np.all(loads[k] + weights[i] <= constraints):\n",
    "            sol[i, k] = 1\n",
    "            loads[k] += weights[i]\n",
    "    return sol\n",
    "\n"
   ]
  },
  {
   "cell_type": "code",
   "execution_count": 109,
   "id": "6bf75408",
   "metadata": {},
   "outputs": [],
   "source": [
    "def fitness(sol, values):\n",
    "    # only return the fitness value\n",
    "    return int((sol * values[:, None]).sum())\n",
    "\n",
    "def knapsack_loads(sol, weights):\n",
    "    return sol.T @ weights  # (K, D)"
   ]
  },
  {
   "cell_type": "code",
   "execution_count": null,
   "id": "155fb8e5",
   "metadata": {},
   "outputs": [],
   "source": [
    "#local search\n",
    "#neighbor\n",
    "def best_improving_neighbor(sol, values, weights, constraints):\n",
    "    import numpy as np\n",
    "    N, K = sol.shape\n",
    "    cur_fit = fitness(sol, values)\n",
    "    loads = knapsack_loads(sol, weights)\n",
    "\n",
    "    # 1. add i to some bag k\n",
    "    for i in range(N):\n",
    "        if sol[i].any():\n",
    "            continue\n",
    "        wi = weights[i]\n",
    "        for k in range(K):\n",
    "            if np.all(loads[k] + wi <= constraints):\n",
    "                new_sol = sol.copy()\n",
    "                new_sol[i, :] = 0\n",
    "                new_sol[i, k] = 1\n",
    "                gain = int(fitness(new_sol, values) - cur_fit)\n",
    "                if gain > 0:\n",
    "                    return new_sol, gain, {\"op\": \"add\", \"i\": i, \"j\": None, \"k_from\": None, \"k_to\": k}\n",
    "\n",
    "    # 2. swap： swap i to bag k's j\n",
    "    for k in range(K):\n",
    "        for j in range(N):\n",
    "            if sol[j, k] != 1:\n",
    "                continue\n",
    "            for i in range(N):\n",
    "                if sol[i].any():\n",
    "                    continue\n",
    "                if np.all(loads[k] - weights[j] + weights[i] <= constraints):\n",
    "                    new_sol = sol.copy()\n",
    "                    new_sol[j, :] = 0\n",
    "                    new_sol[i, :] = 0\n",
    "                    new_sol[i, k] = 1\n",
    "                    gain = int(fitness(new_sol, values) - cur_fit)\n",
    "                    if gain > 0:\n",
    "                        return new_sol, gain, {\"op\": \"swap\", \"i\": i, \"j\": j, \"k_from\": k, \"k_to\": k}\n",
    "\n",
    "    return None, 0, None\n"
   ]
  },
  {
   "cell_type": "code",
   "execution_count": null,
   "id": "1ff95a03",
   "metadata": {},
   "outputs": [],
   "source": [
    "from tqdm.auto import tqdm\n",
    "from icecream import ic\n",
    "ic.configureOutput(includeContext=False, outputFunction=tqdm.write)\n",
    "\n",
    "def hill_climb(values, weights, constraints, num_knapsacks, *,\n",
    "               restarts=20, max_iters=500, seed=42,\n",
    "               debug=False, log_every=500,\n",
    "               refresh_every=200):   \n",
    "    rng = np.random.default_rng(seed)\n",
    "    best_sol, best_fit = None, -1\n",
    "\n",
    "    # total iterations for the progress bar\n",
    "    TOTAL = restarts * max_iters\n",
    "    bar = tqdm(total=TOTAL, desc=\"search\", unit=\"try\",\n",
    "               dynamic_ncols=True, leave=True, position=0)\n",
    "    bar.refresh()  # enforce refresh\n",
    "\n",
    "    tries_done = 0  # total tries done so far\n",
    "\n",
    "    for r in range(restarts):\n",
    "        sol = random_feasible_init(values, weights, constraints, num_knapsacks, rng)\n",
    "        cur_fit = fitness(sol, values)\n",
    "\n",
    "        it = 0\n",
    "        while it < max_iters:\n",
    "            tries_done += 1\n",
    "            bar.update(1)\n",
    "\n",
    "            if tries_done % refresh_every == 0:\n",
    "                bar.set_postfix_str(f\"r={r+1} fit={int(cur_fit)}\")\n",
    "                bar.refresh()  \n",
    "\n",
    "            neighbor, gain, info = best_improving_neighbor(sol, values, weights, constraints)\n",
    "            if neighbor is None or gain <= 0:\n",
    "                break  \n",
    "\n",
    "            # accept the neighbor\n",
    "            sol = neighbor\n",
    "            cur_fit = fitness(sol, values)\n",
    "            it += 1\n",
    "\n",
    "            if debug and (it % log_every == 0):\n",
    "                ic(f\"r{r+1} it={it} {info.get('op')} i={info.get('i')} \"\n",
    "                   f\"j={info.get('j')} k={info.get('k_to')} \"\n",
    "                   f\"gain=+{int(gain)} fit={int(cur_fit)}\")\n",
    "\n",
    "        if cur_fit > best_fit:\n",
    "            best_fit, best_sol = cur_fit, sol\n",
    "\n",
    "    #end bar\n",
    "    bar.total = bar.n\n",
    "    bar.close()\n",
    "    return best_sol, int(best_fit)\n"
   ]
  },
  {
   "cell_type": "code",
   "execution_count": null,
   "id": "64459bcb",
   "metadata": {},
   "outputs": [
    {
     "name": "stdout",
     "output_type": "stream",
     "text": [
      "Initial solution:\n",
      "[[0 1 0]\n",
      " [1 0 0]\n",
      " [0 0 1]\n",
      " [1 0 0]\n",
      " [0 1 0]\n",
      " [0 1 0]\n",
      " [0 1 0]\n",
      " [1 0 0]\n",
      " [1 0 0]\n",
      " [0 0 1]\n",
      " [0 1 0]\n",
      " [0 0 1]\n",
      " [0 1 0]\n",
      " [1 0 0]\n",
      " [1 0 0]\n",
      " [0 1 0]\n",
      " [0 0 1]\n",
      " [0 0 1]\n",
      " [0 0 1]\n",
      " [0 1 0]]\n"
     ]
    },
    {
     "name": "stderr",
     "output_type": "stream",
     "text": [
      "search: 100%|██████████| 34/34 [00:00<00:00, 4853.03try/s]\n"
     ]
    }
   ],
   "source": [
    "# Problem 1:\n",
    "rng = np.random.default_rng(seed=42)\n",
    "NUM_KNAPSACKS = 3\n",
    "NUM_ITEMS = 20\n",
    "NUM_DIMENSIONS = 2\n",
    "VALUES = rng.integers(0, 100, size=NUM_ITEMS)\n",
    "WEIGHTS = rng.integers(0, 100, size=(NUM_ITEMS, NUM_DIMENSIONS))\n",
    "CONSTRAINTS = rng.integers(0, 100 * NUM_ITEMS // NUM_KNAPSACKS, size=NUM_DIMENSIONS)\n",
    "\n",
    "\n",
    "\n",
    "sol = random_feasible_init(VALUES, WEIGHTS, CONSTRAINTS, NUM_KNAPSACKS, rng)\n",
    "print(\"Initial solution:\")\n",
    "print(sol)\n",
    "sol, fit = hill_climb(\n",
    "    VALUES, WEIGHTS, CONSTRAINTS, NUM_KNAPSACKS,\n",
    "    restarts=20, max_iters=5000, seed=42,\n",
    "    debug=False    \n",
    ")\n",
    "\n",
    "\n",
    "\n",
    "\n"
   ]
  },
  {
   "cell_type": "code",
   "execution_count": null,
   "id": "8ec1c673",
   "metadata": {},
   "outputs": [
    {
     "name": "stdout",
     "output_type": "stream",
     "text": [
      "Initial solution:\n",
      "[[0 1 0 0 0 0 0 0 0 0]\n",
      " [0 0 0 0 0 0 0 0 0 0]\n",
      " [0 0 0 0 0 0 0 0 0 0]\n",
      " [0 0 0 0 1 0 0 0 0 0]\n",
      " [0 0 0 1 0 0 0 0 0 0]\n",
      " [0 0 0 0 0 0 0 0 0 0]\n",
      " [0 0 0 0 0 0 0 0 0 1]\n",
      " [0 0 0 0 0 0 0 0 0 0]\n",
      " [0 0 0 0 0 0 1 0 0 0]\n",
      " [0 0 0 0 1 0 0 0 0 0]\n",
      " [0 0 0 0 0 1 0 0 0 0]\n",
      " [0 0 0 0 0 0 0 0 0 0]\n",
      " [0 0 0 0 0 0 0 0 0 0]\n",
      " [0 0 0 0 0 0 0 0 0 0]\n",
      " [0 0 0 0 0 0 0 0 0 0]\n",
      " [0 0 0 0 0 0 0 0 0 0]\n",
      " [0 0 0 0 0 0 0 0 0 0]\n",
      " [0 0 0 0 0 0 0 0 1 0]\n",
      " [0 0 0 0 0 0 0 0 0 0]\n",
      " [0 1 0 0 0 0 0 0 0 0]\n",
      " [0 0 0 1 0 0 0 0 0 0]\n",
      " [0 0 0 1 0 0 0 0 0 0]\n",
      " [0 0 0 0 0 0 0 0 1 0]\n",
      " [0 0 0 0 0 0 0 0 0 0]\n",
      " [0 0 0 0 0 1 0 0 0 0]\n",
      " [0 0 0 0 0 0 0 0 0 0]\n",
      " [0 0 0 0 0 1 0 0 0 0]\n",
      " [0 0 0 0 0 0 0 0 0 0]\n",
      " [0 0 0 0 0 0 0 0 0 1]\n",
      " [0 0 0 0 0 0 0 0 0 0]\n",
      " [0 0 0 0 0 0 0 0 0 0]\n",
      " [0 0 0 0 0 0 0 1 0 0]\n",
      " [0 0 1 0 0 0 0 0 0 0]\n",
      " [0 0 0 0 0 0 0 0 0 0]\n",
      " [0 0 0 0 0 0 0 0 0 0]\n",
      " [0 0 1 0 0 0 0 0 0 0]\n",
      " [0 0 0 0 0 0 0 0 0 0]\n",
      " [0 0 0 0 0 0 0 0 0 0]\n",
      " [0 0 0 0 0 0 0 1 0 0]\n",
      " [0 0 0 0 0 0 0 0 0 0]\n",
      " [0 0 0 0 0 0 0 0 1 0]\n",
      " [0 0 0 0 0 0 0 0 0 0]\n",
      " [0 0 0 0 0 0 0 0 0 0]\n",
      " [0 0 0 1 0 0 0 0 0 0]\n",
      " [0 1 0 0 0 0 0 0 0 0]\n",
      " [0 0 0 0 0 0 1 0 0 0]\n",
      " [0 0 0 0 0 0 0 0 0 0]\n",
      " [0 0 0 0 0 0 0 0 0 0]\n",
      " [0 0 0 0 0 0 0 0 0 0]\n",
      " [0 0 0 0 0 0 0 0 0 0]\n",
      " [0 0 0 0 0 0 0 0 0 0]\n",
      " [0 0 0 0 0 0 1 0 0 0]\n",
      " [0 0 0 0 0 0 0 0 0 1]\n",
      " [0 0 0 0 0 0 0 0 1 0]\n",
      " [0 0 0 0 0 0 0 0 0 0]\n",
      " [0 0 0 0 0 0 1 0 0 0]\n",
      " [0 0 0 0 0 0 0 0 0 0]\n",
      " [1 0 0 0 0 0 0 0 0 0]\n",
      " [0 1 0 0 0 0 0 0 0 0]\n",
      " [0 0 0 0 0 0 0 0 0 0]\n",
      " [0 0 0 0 0 0 0 0 0 0]\n",
      " [0 0 0 0 0 0 0 0 0 0]\n",
      " [0 0 0 0 0 0 0 0 0 1]\n",
      " [0 0 0 0 0 0 0 0 0 0]\n",
      " [0 0 0 0 0 1 0 0 0 0]\n",
      " [1 0 0 0 0 0 0 0 0 0]\n",
      " [0 0 0 0 0 0 0 0 0 0]\n",
      " [0 0 0 0 0 0 0 0 0 0]\n",
      " [0 0 0 0 0 1 0 0 0 0]\n",
      " [0 0 0 1 0 0 0 0 0 0]\n",
      " [0 0 0 0 0 0 0 0 0 0]\n",
      " [0 0 1 0 0 0 0 0 0 0]\n",
      " [0 0 0 0 0 0 0 0 0 0]\n",
      " [0 0 0 0 1 0 0 0 0 0]\n",
      " [0 0 0 0 0 0 0 0 0 0]\n",
      " [0 0 0 0 0 0 0 0 0 0]\n",
      " [0 0 0 0 0 0 0 1 0 0]\n",
      " [0 0 0 0 0 0 0 0 0 0]\n",
      " [0 0 0 0 0 0 0 0 0 0]\n",
      " [0 0 0 0 0 0 0 0 0 0]\n",
      " [0 0 1 0 0 0 0 0 0 0]\n",
      " [0 0 0 0 0 0 0 0 0 0]\n",
      " [1 0 0 0 0 0 0 0 0 0]\n",
      " [0 0 0 0 0 0 0 0 0 0]\n",
      " [0 0 0 0 0 0 0 0 0 1]\n",
      " [0 0 0 0 0 0 0 0 0 0]\n",
      " [0 0 0 0 0 0 0 1 0 0]\n",
      " [0 0 0 0 0 0 0 0 0 0]\n",
      " [0 0 0 0 0 0 0 0 0 1]\n",
      " [0 0 0 0 0 0 0 0 0 0]\n",
      " [0 0 0 0 0 0 0 1 0 0]\n",
      " [0 0 0 0 0 0 0 0 0 0]\n",
      " [0 0 0 0 0 0 0 0 0 0]\n",
      " [0 0 0 1 0 0 0 0 0 0]\n",
      " [0 0 0 0 0 0 0 0 0 0]\n",
      " [0 0 0 0 0 0 1 0 0 0]\n",
      " [0 0 0 0 0 1 0 0 0 0]\n",
      " [0 0 0 0 0 0 0 0 0 0]\n",
      " [0 0 0 0 0 0 0 0 0 0]\n",
      " [0 0 1 0 0 0 0 0 0 0]]\n"
     ]
    },
    {
     "name": "stderr",
     "output_type": "stream",
     "text": [
      "search: 100%|██████████| 1905/1905 [00:06<00:00, 272.66try/s, r=19 fit=35417]  \n"
     ]
    }
   ],
   "source": [
    "# Problem 2:\n",
    "rng = np.random.default_rng(seed=42)\n",
    "NUM_KNAPSACKS = 10\n",
    "NUM_ITEMS = 100\n",
    "NUM_DIMENSIONS = 10\n",
    "VALUES = rng.integers(0, 1000, size=NUM_ITEMS)\n",
    "WEIGHTS = rng.integers(0, 1000, size=(NUM_ITEMS, NUM_DIMENSIONS))\n",
    "CONSTRAINTS = rng.integers(1000 * 2, 1000 * NUM_ITEMS // NUM_KNAPSACKS, size=NUM_DIMENSIONS)\n",
    "\n",
    "\n",
    "\n",
    "\n",
    "sol = random_feasible_init(VALUES, WEIGHTS, CONSTRAINTS, NUM_KNAPSACKS, rng)\n",
    "print(\"Initial solution:\")\n",
    "print(sol)\n",
    "sol, fit = hill_climb(\n",
    "    VALUES, WEIGHTS, CONSTRAINTS, NUM_KNAPSACKS,\n",
    "    restarts=20, max_iters=5000, seed=42,\n",
    "    debug=False     \n",
    ")\n",
    "\n"
   ]
  },
  {
   "cell_type": "code",
   "execution_count": null,
   "id": "4c86275c",
   "metadata": {},
   "outputs": [
    {
     "name": "stdout",
     "output_type": "stream",
     "text": [
      "Initial solution:\n",
      "[[0 0 0 ... 0 0 0]\n",
      " [0 0 0 ... 0 0 0]\n",
      " [0 0 0 ... 0 0 0]\n",
      " ...\n",
      " [0 0 0 ... 0 0 0]\n",
      " [0 0 0 ... 0 0 0]\n",
      " [0 0 0 ... 0 0 0]]\n"
     ]
    },
    {
     "name": "stderr",
     "output_type": "stream",
     "text": [
      "search: 100%|██████████| 1000/1000 [01:04<00:00, 15.59try/s, r=20 fit=606978]\n"
     ]
    }
   ],
   "source": [
    "# Problem 3:\n",
    "rng = np.random.default_rng(seed=42)\n",
    "NUM_KNAPSACKS = 100\n",
    "NUM_ITEMS = 5000\n",
    "NUM_DIMENSIONS = 100\n",
    "VALUES = rng.integers(0, 1000, size=NUM_ITEMS)\n",
    "WEIGHTS = rng.integers(0, 1000, size=(NUM_ITEMS, NUM_DIMENSIONS))\n",
    "CONSTRAINTS = rng.integers(1000 * 10, 1000 * 2 * NUM_ITEMS // NUM_KNAPSACKS, size=NUM_DIMENSIONS)\n",
    "\n",
    "\n",
    "\n",
    "sol = random_feasible_init(VALUES, WEIGHTS, CONSTRAINTS, NUM_KNAPSACKS, rng)\n",
    "print(\"Initial solution:\")\n",
    "print(sol)\n",
    "sol, fit = hill_climb(\n",
    "    VALUES, WEIGHTS, CONSTRAINTS, NUM_KNAPSACKS,\n",
    "    restarts=20, max_iters=50, seed=42,\n",
    "    debug=True \n",
    ")\n",
    "\n"
   ]
  },
  {
   "cell_type": "code",
   "execution_count": 115,
   "id": "da679c87",
   "metadata": {},
   "outputs": [
    {
     "name": "stdout",
     "output_type": "stream",
     "text": [
      "[ 89 773 654 ... 819 678 498]\n",
      "[[197  33 627 ... 319 937 293]\n",
      " [550 543 242 ... 942 568 950]\n",
      " [436 411 836 ... 664 169 846]\n",
      " ...\n",
      " [869 582 968 ... 567 291 288]\n",
      " [ 97 220 662 ... 171 310 833]\n",
      " [656  51 146 ... 286 725 372]]\n",
      "[79834 52005 17527 30007 59295 98921 12881 36174 63958 90566 25740 12251\n",
      " 27746 78136 90704 39249 23072 69010 17326 29277 42886 48016 74931 93479\n",
      " 30898 18137 75557 56030 75506 90246 42093 34668 22075 79709 98971 15032\n",
      " 57157 21369 76865 11589 82666 78074 68715 85558 61242 80943 26905 84378\n",
      " 85069 77221 16434 28156 17827 83548 72921 27512 41395 23936 72519 96465\n",
      " 12904 72709 81023 81015 28959 98041 90482 89802 76408 29899 51171 94767\n",
      " 78351 57860 58504 40545 97025 99185 42888 54965 24945 51281 31276 61913\n",
      " 96714 93034 72901 95222 37857 53461 15463 71355 64979 70086 48286 38026\n",
      " 60109 78500 56643 69915]\n"
     ]
    }
   ],
   "source": [
    "print(VALUES)\n",
    "print(WEIGHTS)\n",
    "print(CONSTRAINTS)"
   ]
  },
  {
   "cell_type": "code",
   "execution_count": 116,
   "id": "1bb07d04",
   "metadata": {},
   "outputs": [
    {
     "name": "stdout",
     "output_type": "stream",
     "text": [
      "VALUES.shape: (3,)\n",
      "WEIGHTS.shape: (3, 2)\n",
      "共享容量: (2,)\n",
      "多背包容量: (2, 2)\n",
      "VALUES = [8 6 5]\n",
      "WEIGHTS=\n",
      " [[2 3]\n",
      " [0 0]\n",
      " [0 1]]\n",
      "CONSTRAINTS_multi=\n",
      " [[14 10]\n",
      " [11 14]]\n"
     ]
    }
   ],
   "source": [
    "#sample data\n",
    "\n",
    "rng = np.random.default_rng(0)\n",
    "NUM_KNAPSACKS = 2\n",
    "NUM_ITEMS = 3\n",
    "NUM_DIMENSIONS = 2\n",
    "\n",
    "VALUES   = rng.integers(0, 10, size=NUM_ITEMS)              # (3,)\n",
    "WEIGHTS  = rng.integers(0, 10, size=(NUM_ITEMS, NUM_DIMENSIONS))  # (3,2)\n",
    "# 单背包/共享容量（不推荐多背包用）\n",
    "CONSTRAINTS_shared = rng.integers(5, 15, size=NUM_DIMENSIONS)      # (2,)\n",
    "# 多背包容量（推荐多背包用）\n",
    "CONSTRAINTS_multi  = rng.integers(5, 15, size=(NUM_KNAPSACKS, NUM_DIMENSIONS))  # (2,2)\n",
    "\n",
    "print(\"VALUES.shape:\", VALUES.shape)            # (3,)\n",
    "print(\"WEIGHTS.shape:\", WEIGHTS.shape)          # (3,2)\n",
    "print(\"共享容量:\", CONSTRAINTS_shared.shape)     # (2,)\n",
    "print(\"多背包容量:\", CONSTRAINTS_multi.shape)    # (2,2)\n",
    "\n",
    "print(\"VALUES =\", VALUES)\n",
    "print(\"WEIGHTS=\\n\", WEIGHTS)\n",
    "print(\"CONSTRAINTS_multi=\\n\", CONSTRAINTS_multi)\n"
   ]
  }
 ],
 "metadata": {
  "kernelspec": {
   "display_name": ".venv",
   "language": "python",
   "name": "python3"
  },
  "language_info": {
   "codemirror_mode": {
    "name": "ipython",
    "version": 3
   },
   "file_extension": ".py",
   "mimetype": "text/x-python",
   "name": "python",
   "nbconvert_exporter": "python",
   "pygments_lexer": "ipython3",
   "version": "3.9.6"
  }
 },
 "nbformat": 4,
 "nbformat_minor": 5
}
