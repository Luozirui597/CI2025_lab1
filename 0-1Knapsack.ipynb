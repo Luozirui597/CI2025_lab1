{
 "cells": [
  {
   "cell_type": "markdown",
   "id": "8ffee8c4",
   "metadata": {},
   "source": [
    "#Lab1\n",
    "##0-1Knapsack"
   ]
  },
  {
   "cell_type": "code",
   "execution_count": 12,
   "id": "93932fca",
   "metadata": {},
   "outputs": [],
   "source": [
    "import numpy as np"
   ]
  },
  {
   "cell_type": "markdown",
   "id": "ce3bf1a8",
   "metadata": {},
   "source": [
    "###Thanks to professor"
   ]
  },
  {
   "cell_type": "code",
   "execution_count": 13,
   "id": "a304ecb6",
   "metadata": {},
   "outputs": [],
   "source": [
    "NUM_KNAPSACKS = 3\n",
    "NUM_ITEMS = 10\n",
    "NUM_DIMENSIONS = 2"
   ]
  },
  {
   "cell_type": "code",
   "execution_count": 14,
   "id": "2f12440c",
   "metadata": {},
   "outputs": [],
   "source": [
    "VALUES = np.random.randint(0, 100, size=NUM_ITEMS)\n",
    "WEIGHTS = np.random.randint(0, 100, size=(NUM_ITEMS, NUM_DIMENSIONS))\n",
    "CONSTRAINTS = np.random.randint(0, 100 * NUM_ITEMS // NUM_KNAPSACKS, size=(NUM_KNAPSACKS,NUM_DIMENSIONS))"
   ]
  },
  {
   "cell_type": "code",
   "execution_count": 15,
   "id": "56e7e6dc",
   "metadata": {},
   "outputs": [
    {
     "name": "stdout",
     "output_type": "stream",
     "text": [
      "[85 96 73 14 97 90 94 83 95 82]\n",
      "[[57 50]\n",
      " [12 99]\n",
      " [30 41]\n",
      " [29 79]\n",
      " [13 43]\n",
      " [20 99]\n",
      " [48 35]\n",
      " [95  4]\n",
      " [19 79]\n",
      " [23 86]]\n"
     ]
    },
    {
     "data": {
      "text/plain": [
       "array([[183,  37],\n",
       "       [172,  96],\n",
       "       [282, 288]])"
      ]
     },
     "execution_count": 15,
     "metadata": {},
     "output_type": "execute_result"
    }
   ],
   "source": [
    "print(VALUES)\n",
    "print(WEIGHTS)\n",
    "CONSTRAINTS"
   ]
  },
  {
   "cell_type": "code",
   "execution_count": 16,
   "id": "479300ce",
   "metadata": {},
   "outputs": [],
   "source": [
    "#test some solutions\n",
    "#start from classic knapsack solution\n",
    "#贪心算法\n",
    "def greedy_solution(values, weights, constraints, num_knapsacks, *, eps=1e-9):\n",
    "    \n",
    "    values = np.asarray(values)\n",
    "    weights = np.asarray(weights)\n",
    "    constraints = np.asarray(constraints)\n",
    "\n",
    "    n_items, n_dims = weights.shape\n",
    "    sol = np.zeros((n_items, num_knapsacks), dtype=int)\n",
    "    used = np.zeros((num_knapsacks, n_dims), dtype=int)\n",
    "\n",
    "    norm = np.maximum(constraints.astype(float), 1.0)\n",
    "    cost = (weights / norm).sum(axis=1) + eps\n",
    "    order = np.argsort(-(values / cost))  \n",
    "\n",
    "    for i in order:\n",
    "        best = None\n",
    "        for k in range(num_knapsacks):\n",
    "            if np.all(used[k] + weights[i] <= constraints):\n",
    "                residual_sum = (constraints - (used[k] + weights[i])).sum()\n",
    "                if (best is None) or (residual_sum < best[0]):\n",
    "                    best = (residual_sum, k)\n",
    "        if best is not None:\n",
    "            k = best[1]\n",
    "            sol[i, k] = 1\n",
    "            used[k] += weights[i]\n",
    "    return sol\n",
    "\n",
    "#check feasibility\n",
    "def check_solution(solution, weights, constraints):\n",
    "    \n",
    "    S = np.asarray(solution)\n",
    "    W = np.asarray(weights)\n",
    "    C = np.asarray(constraints)\n",
    "\n",
    "    # shape checks\n",
    "    if S.ndim != 2 or W.ndim != 2 or C.ndim != 1:\n",
    "        return False\n",
    "    if S.shape[0] != W.shape[0] or W.shape[1] != C.shape[0]:\n",
    "        return False\n",
    "\n",
    "    # 0/1 and one-hot checks\n",
    "    if not np.all((S == 0) | (S == 1)):\n",
    "        return False\n",
    "    if not np.all(S.sum(axis=1) <= 1):\n",
    "        return False\n",
    "\n",
    "    # capacity check\n",
    "    used = S.T @ W  # (n_knapsacks, n_dims)\n",
    "    if np.any(used > C):\n",
    "        return False\n",
    "\n",
    "    return True\n"
   ]
  },
  {
   "cell_type": "code",
   "execution_count": 17,
   "id": "9ce30af4",
   "metadata": {},
   "outputs": [],
   "source": [
    "# Check if the solution is valid\n",
    "all_knapsacks = np.any(greedy_solution, axis=0)\n",
    "#np.all(WEIGHTS[all_knapsacks].sum(axis=0) < CONSTRAINTS)"
   ]
  },
  {
   "cell_type": "markdown",
   "id": "1d73ab6b",
   "metadata": {},
   "source": [
    "###TEST PROBLEMS"
   ]
  },
  {
   "cell_type": "code",
   "execution_count": 18,
   "id": "64459bcb",
   "metadata": {},
   "outputs": [
    {
     "name": "stdout",
     "output_type": "stream",
     "text": [
      "[[0 0 1]\n",
      " [1 0 0]\n",
      " [0 1 0]\n",
      " [0 1 0]\n",
      " [0 1 0]\n",
      " [1 0 0]\n",
      " [0 1 0]\n",
      " [1 0 0]\n",
      " [0 1 0]\n",
      " [0 0 1]\n",
      " [1 0 0]\n",
      " [1 0 0]\n",
      " [1 0 0]\n",
      " [1 0 0]\n",
      " [0 1 0]\n",
      " [1 0 0]\n",
      " [1 0 0]\n",
      " [0 1 0]\n",
      " [1 0 0]\n",
      " [0 1 0]]\n",
      "True\n"
     ]
    }
   ],
   "source": [
    "# Problem 1:\n",
    "rng = np.random.default_rng(seed=42)\n",
    "NUM_KNAPSACKS = 3\n",
    "NUM_ITEMS = 20\n",
    "NUM_DIMENSIONS = 2\n",
    "VALUES = rng.integers(0, 100, size=NUM_ITEMS)\n",
    "WEIGHTS = rng.integers(0, 100, size=(NUM_ITEMS, NUM_DIMENSIONS))\n",
    "CONSTRAINTS = rng.integers(0, 100 * NUM_ITEMS // NUM_KNAPSACKS, size=NUM_DIMENSIONS)\n",
    "\n",
    "sol = greedy_solution(VALUES, WEIGHTS, CONSTRAINTS, NUM_KNAPSACKS)\n",
    "print(sol)\n",
    "\n",
    "\n",
    "\n",
    "che = check_solution(sol, WEIGHTS, CONSTRAINTS)\n",
    "print(che)\n",
    "#try fitness function\n"
   ]
  },
  {
   "cell_type": "code",
   "execution_count": 19,
   "id": "8ec1c673",
   "metadata": {},
   "outputs": [
    {
     "name": "stdout",
     "output_type": "stream",
     "text": [
      "[[0 0 0 0 0 0 0 0 0 0]\n",
      " [1 0 0 0 0 0 0 0 0 0]\n",
      " [0 0 0 0 0 0 0 0 0 0]\n",
      " [0 0 0 0 0 0 0 0 0 0]\n",
      " [0 0 0 0 0 0 1 0 0 0]\n",
      " [0 0 0 1 0 0 0 0 0 0]\n",
      " [0 0 0 0 0 0 0 0 0 0]\n",
      " [0 0 0 0 0 0 1 0 0 0]\n",
      " [0 0 0 0 0 0 0 0 0 0]\n",
      " [0 0 0 0 0 0 0 0 0 0]\n",
      " [0 0 0 0 0 0 0 0 0 0]\n",
      " [0 1 0 0 0 0 0 0 0 0]\n",
      " [0 1 0 0 0 0 0 0 0 0]\n",
      " [0 0 0 0 0 1 0 0 0 0]\n",
      " [0 1 0 0 0 0 0 0 0 0]\n",
      " [1 0 0 0 0 0 0 0 0 0]\n",
      " [0 0 0 0 0 0 0 0 0 0]\n",
      " [0 0 0 0 0 0 0 0 0 0]\n",
      " [0 0 1 0 0 0 0 0 0 0]\n",
      " [0 0 0 0 0 1 0 0 0 0]\n",
      " [0 0 0 0 0 0 0 0 0 1]\n",
      " [0 0 0 0 0 0 0 0 0 0]\n",
      " [0 0 0 0 0 0 0 0 0 0]\n",
      " [0 0 0 1 0 0 0 0 0 0]\n",
      " [0 0 0 0 1 0 0 0 0 0]\n",
      " [0 0 0 0 0 0 0 0 1 0]\n",
      " [0 0 0 0 0 0 0 0 0 0]\n",
      " [0 0 1 0 0 0 0 0 0 0]\n",
      " [0 0 0 0 0 0 0 1 0 0]\n",
      " [0 0 0 0 0 0 0 0 0 0]\n",
      " [0 0 0 0 0 0 0 0 0 0]\n",
      " [0 0 0 0 0 0 0 0 0 0]\n",
      " [0 0 0 0 0 0 0 0 0 0]\n",
      " [1 0 0 0 0 0 0 0 0 0]\n",
      " [0 0 1 0 0 0 0 0 0 0]\n",
      " [0 0 0 0 0 0 0 0 1 0]\n",
      " [0 0 1 0 0 0 0 0 0 0]\n",
      " [0 0 0 1 0 0 0 0 0 0]\n",
      " [0 0 0 0 0 0 0 0 0 0]\n",
      " [0 0 0 0 0 0 0 0 0 0]\n",
      " [0 0 0 0 0 0 0 0 0 0]\n",
      " [0 0 0 0 0 0 0 0 0 1]\n",
      " [0 0 0 0 0 0 1 0 0 0]\n",
      " [0 0 0 0 1 0 0 0 0 0]\n",
      " [0 0 0 0 0 0 0 0 0 0]\n",
      " [0 0 0 0 0 0 1 0 0 0]\n",
      " [0 0 0 0 0 0 0 0 0 0]\n",
      " [1 0 0 0 0 0 0 0 0 0]\n",
      " [0 0 0 0 0 1 0 0 0 0]\n",
      " [0 0 0 0 0 0 0 0 0 1]\n",
      " [0 0 0 0 0 0 0 0 0 1]\n",
      " [0 0 0 0 0 0 0 0 0 0]\n",
      " [0 0 0 0 0 0 0 0 0 0]\n",
      " [0 0 0 0 0 0 0 0 0 0]\n",
      " [0 0 0 0 0 0 0 0 0 0]\n",
      " [0 0 0 0 0 0 0 0 0 0]\n",
      " [0 0 0 0 0 0 0 0 0 1]\n",
      " [0 0 0 0 0 0 0 0 0 0]\n",
      " [0 0 0 0 0 0 0 0 1 0]\n",
      " [0 0 0 0 0 0 0 0 1 0]\n",
      " [1 0 0 0 0 0 0 0 0 0]\n",
      " [0 0 0 0 0 0 0 0 1 0]\n",
      " [0 0 0 0 0 0 0 0 0 0]\n",
      " [0 0 0 0 1 0 0 0 0 0]\n",
      " [0 0 0 0 0 0 0 0 0 0]\n",
      " [0 0 0 0 0 0 0 0 0 0]\n",
      " [0 0 1 0 0 0 0 0 0 0]\n",
      " [0 0 0 0 0 0 0 0 0 0]\n",
      " [0 0 0 0 0 0 1 0 0 0]\n",
      " [0 0 0 0 0 0 0 0 0 0]\n",
      " [0 0 0 0 1 0 0 0 0 0]\n",
      " [0 0 0 0 0 0 0 0 0 0]\n",
      " [0 0 0 0 0 1 0 0 0 0]\n",
      " [0 0 0 0 0 0 0 0 0 0]\n",
      " [0 1 0 0 0 0 0 0 0 0]\n",
      " [0 0 0 0 0 0 0 0 0 0]\n",
      " [0 0 0 0 0 0 0 0 0 0]\n",
      " [0 0 0 0 0 0 0 0 0 0]\n",
      " [0 0 0 0 1 0 0 0 0 0]\n",
      " [0 0 0 0 0 0 0 1 0 0]\n",
      " [1 0 0 0 0 0 0 0 0 0]\n",
      " [0 0 0 0 0 0 0 0 0 0]\n",
      " [0 0 0 0 0 0 0 0 0 0]\n",
      " [0 1 0 0 0 0 0 0 0 0]\n",
      " [0 0 0 0 0 0 0 1 0 0]\n",
      " [0 0 0 0 0 0 0 1 0 0]\n",
      " [0 0 0 0 0 0 0 1 0 0]\n",
      " [0 0 0 0 0 0 0 0 0 0]\n",
      " [0 0 0 0 0 0 0 1 0 0]\n",
      " [0 0 0 1 0 0 0 0 0 0]\n",
      " [0 0 0 0 0 0 0 0 0 0]\n",
      " [1 0 0 0 0 0 0 0 0 0]\n",
      " [1 0 0 0 0 0 0 0 0 0]\n",
      " [0 0 0 0 0 0 0 0 0 0]\n",
      " [0 1 0 0 0 0 0 0 0 0]\n",
      " [0 0 0 0 0 0 0 0 0 0]\n",
      " [0 0 0 0 0 0 1 0 0 0]\n",
      " [0 0 0 0 0 1 0 0 0 0]\n",
      " [0 0 0 0 0 0 0 0 0 0]\n",
      " [0 0 0 0 0 0 0 0 0 0]]\n"
     ]
    },
    {
     "data": {
      "text/plain": [
       "np.True_"
      ]
     },
     "execution_count": 19,
     "metadata": {},
     "output_type": "execute_result"
    }
   ],
   "source": [
    "# Problem 2:\n",
    "rng = np.random.default_rng(seed=42)\n",
    "NUM_KNAPSACKS = 10\n",
    "NUM_ITEMS = 100\n",
    "NUM_DIMENSIONS = 10\n",
    "VALUES = rng.integers(0, 1000, size=NUM_ITEMS)\n",
    "WEIGHTS = rng.integers(0, 1000, size=(NUM_ITEMS, NUM_DIMENSIONS))\n",
    "CONSTRAINTS = rng.integers(1000 * 2, 1000 * NUM_ITEMS // NUM_KNAPSACKS, size=NUM_DIMENSIONS)\n",
    "\n",
    "greedy_solution = np.zeros((NUM_ITEMS, NUM_KNAPSACKS), dtype=int)\n",
    "item_indices = np.argsort(-VALUES / np.sum(WEIGHTS, axis=1))    \n",
    "knapsack_weights = np.zeros((NUM_KNAPSACKS, NUM_DIMENSIONS), dtype=int)\n",
    "for idx in item_indices:\n",
    "    for k in range(NUM_KNAPSACKS):\n",
    "        if np.all(knapsack_weights[k] + WEIGHTS[idx] <= CONSTRAINTS):\n",
    "            greedy_solution[idx, k] = 1\n",
    "            knapsack_weights[k] += WEIGHTS[idx]\n",
    "            break\n",
    "print(greedy_solution)\n",
    "\n",
    "#check feasibility\n",
    "def is_feasible(solution):\n",
    "    knapsack_weights = np.zeros((NUM_KNAPSACKS, NUM_DIMENSIONS), dtype=int)\n",
    "    for i in range(NUM_ITEMS):\n",
    "        for k in range(NUM_KNAPSACKS):\n",
    "            if solution[i, k] == 1:\n",
    "                knapsack_weights[k] += WEIGHTS[i]\n",
    "    return np.all(knapsack_weights <= CONSTRAINTS)\n",
    "is_feasible(greedy_solution)"
   ]
  },
  {
   "cell_type": "code",
   "execution_count": 20,
   "id": "4c86275c",
   "metadata": {},
   "outputs": [],
   "source": [
    "# Problem 3:\n",
    "rng = np.random.default_rng(seed=42)\n",
    "NUM_KNAPSACKS = 100\n",
    "NUM_ITEMS = 5000\n",
    "NUM_DIMENSIONS = 100\n",
    "VALUES = rng.integers(0, 1000, size=NUM_ITEMS)\n",
    "WEIGHTS = rng.integers(0, 1000, size=(NUM_ITEMS, NUM_DIMENSIONS))\n",
    "CONSTRAINTS = rng.integers(1000 * 10, 1000 * 2 * NUM_ITEMS // NUM_KNAPSACKS, size=NUM_DIMENSIONS)\n"
   ]
  },
  {
   "cell_type": "code",
   "execution_count": 21,
   "id": "da679c87",
   "metadata": {},
   "outputs": [
    {
     "name": "stdout",
     "output_type": "stream",
     "text": [
      "[ 89 773 654 ... 819 678 498]\n",
      "[[197  33 627 ... 319 937 293]\n",
      " [550 543 242 ... 942 568 950]\n",
      " [436 411 836 ... 664 169 846]\n",
      " ...\n",
      " [869 582 968 ... 567 291 288]\n",
      " [ 97 220 662 ... 171 310 833]\n",
      " [656  51 146 ... 286 725 372]]\n",
      "[79834 52005 17527 30007 59295 98921 12881 36174 63958 90566 25740 12251\n",
      " 27746 78136 90704 39249 23072 69010 17326 29277 42886 48016 74931 93479\n",
      " 30898 18137 75557 56030 75506 90246 42093 34668 22075 79709 98971 15032\n",
      " 57157 21369 76865 11589 82666 78074 68715 85558 61242 80943 26905 84378\n",
      " 85069 77221 16434 28156 17827 83548 72921 27512 41395 23936 72519 96465\n",
      " 12904 72709 81023 81015 28959 98041 90482 89802 76408 29899 51171 94767\n",
      " 78351 57860 58504 40545 97025 99185 42888 54965 24945 51281 31276 61913\n",
      " 96714 93034 72901 95222 37857 53461 15463 71355 64979 70086 48286 38026\n",
      " 60109 78500 56643 69915]\n"
     ]
    }
   ],
   "source": [
    "print(VALUES)\n",
    "print(WEIGHTS)\n",
    "print(CONSTRAINTS)"
   ]
  },
  {
   "cell_type": "code",
   "execution_count": 22,
   "id": "1bb07d04",
   "metadata": {},
   "outputs": [
    {
     "name": "stdout",
     "output_type": "stream",
     "text": [
      "VALUES.shape: (3,)\n",
      "WEIGHTS.shape: (3, 2)\n",
      "共享容量: (2,)\n",
      "多背包容量: (2, 2)\n",
      "VALUES = [8 6 5]\n",
      "WEIGHTS=\n",
      " [[2 3]\n",
      " [0 0]\n",
      " [0 1]]\n",
      "CONSTRAINTS_multi=\n",
      " [[14 10]\n",
      " [11 14]]\n"
     ]
    }
   ],
   "source": [
    "rng = np.random.default_rng(0)\n",
    "NUM_KNAPSACKS = 2\n",
    "NUM_ITEMS = 3\n",
    "NUM_DIMENSIONS = 2\n",
    "\n",
    "VALUES   = rng.integers(0, 10, size=NUM_ITEMS)              # (3,)\n",
    "WEIGHTS  = rng.integers(0, 10, size=(NUM_ITEMS, NUM_DIMENSIONS))  # (3,2)\n",
    "# 单背包/共享容量（不推荐多背包用）\n",
    "CONSTRAINTS_shared = rng.integers(5, 15, size=NUM_DIMENSIONS)      # (2,)\n",
    "# 多背包容量（推荐多背包用）\n",
    "CONSTRAINTS_multi  = rng.integers(5, 15, size=(NUM_KNAPSACKS, NUM_DIMENSIONS))  # (2,2)\n",
    "\n",
    "print(\"VALUES.shape:\", VALUES.shape)            # (3,)\n",
    "print(\"WEIGHTS.shape:\", WEIGHTS.shape)          # (3,2)\n",
    "print(\"共享容量:\", CONSTRAINTS_shared.shape)     # (2,)\n",
    "print(\"多背包容量:\", CONSTRAINTS_multi.shape)    # (2,2)\n",
    "\n",
    "print(\"VALUES =\", VALUES)\n",
    "print(\"WEIGHTS=\\n\", WEIGHTS)\n",
    "print(\"CONSTRAINTS_multi=\\n\", CONSTRAINTS_multi)\n"
   ]
  }
 ],
 "metadata": {
  "kernelspec": {
   "display_name": ".venv",
   "language": "python",
   "name": "python3"
  },
  "language_info": {
   "codemirror_mode": {
    "name": "ipython",
    "version": 3
   },
   "file_extension": ".py",
   "mimetype": "text/x-python",
   "name": "python",
   "nbconvert_exporter": "python",
   "pygments_lexer": "ipython3",
   "version": "3.9.6"
  }
 },
 "nbformat": 4,
 "nbformat_minor": 5
}
